{
 "cells": [
  {
   "cell_type": "code",
   "execution_count": 1,
   "metadata": {},
   "outputs": [],
   "source": [
    "import pandas as pd"
   ]
  },
  {
   "cell_type": "code",
   "execution_count": 34,
   "metadata": {},
   "outputs": [],
   "source": [
    "df = pd.read_csv(\"../data/drugs_2019_duplicated_20210311.csv\")"
   ]
  },
  {
   "cell_type": "code",
   "execution_count": 35,
   "metadata": {},
   "outputs": [
    {
     "data": {
      "text/plain": [
       "Index(['offender_id', 'offense_id', 'dm_offender_race_ethnicity',\n",
       "       'dm_offender_sex', 'dm_offender_age', 'offender_seq_num',\n",
       "       'offense_type_id', 'location_id', 'cleared_except_id', 'arrest_type_id',\n",
       "       'criminal_act_id', 'relationship_id', 'property_count',\n",
       "       'drug_type_count', 'offense_count', 'drug_offense_count', 'state_abbr',\n",
       "       'agency'],\n",
       "      dtype='object')"
      ]
     },
     "execution_count": 35,
     "metadata": {},
     "output_type": "execute_result"
    }
   ],
   "source": [
    "df.columns"
   ]
  },
  {
   "cell_type": "markdown",
   "metadata": {},
   "source": [
    "### One to many Relationships\n",
    "\n",
    "- offense_type_id\n",
    "- location_id\n",
    "- criminal_act_id\n",
    "- relationship_id"
   ]
  },
  {
   "cell_type": "code",
   "execution_count": 42,
   "metadata": {},
   "outputs": [],
   "source": [
    "drug_or_equipment_df = df[df[\"offense_count\"] == df[\"drug_offense_count\"]]"
   ]
  },
  {
   "cell_type": "code",
   "execution_count": 43,
   "metadata": {},
   "outputs": [
    {
     "data": {
      "text/html": [
       "<div>\n",
       "<style scoped>\n",
       "    .dataframe tbody tr th:only-of-type {\n",
       "        vertical-align: middle;\n",
       "    }\n",
       "\n",
       "    .dataframe tbody tr th {\n",
       "        vertical-align: top;\n",
       "    }\n",
       "\n",
       "    .dataframe thead th {\n",
       "        text-align: right;\n",
       "    }\n",
       "</style>\n",
       "<table border=\"1\" class=\"dataframe\">\n",
       "  <thead>\n",
       "    <tr style=\"text-align: right;\">\n",
       "      <th></th>\n",
       "      <th>offense_id</th>\n",
       "      <th>dm_offender_race_ethnicity</th>\n",
       "      <th>dm_offender_sex</th>\n",
       "      <th>dm_offender_age</th>\n",
       "      <th>offender_seq_num</th>\n",
       "      <th>offense_type_id</th>\n",
       "      <th>location_id</th>\n",
       "      <th>cleared_except_id</th>\n",
       "      <th>arrest_type_id</th>\n",
       "      <th>criminal_act_id</th>\n",
       "      <th>relationship_id</th>\n",
       "      <th>property_count</th>\n",
       "      <th>drug_type_count</th>\n",
       "      <th>offense_count</th>\n",
       "      <th>drug_offense_count</th>\n",
       "      <th>state_abbr</th>\n",
       "      <th>agency</th>\n",
       "    </tr>\n",
       "  </thead>\n",
       "  <tbody>\n",
       "    <tr>\n",
       "      <th>count</th>\n",
       "      <td>866414.000000</td>\n",
       "      <td>866414.0</td>\n",
       "      <td>866414.0</td>\n",
       "      <td>866414.000000</td>\n",
       "      <td>866414.0</td>\n",
       "      <td>866414.000000</td>\n",
       "      <td>866414.000000</td>\n",
       "      <td>866414.0</td>\n",
       "      <td>866414.000000</td>\n",
       "      <td>866414.000000</td>\n",
       "      <td>866414.0</td>\n",
       "      <td>866414.0</td>\n",
       "      <td>866414.000000</td>\n",
       "      <td>866414.0</td>\n",
       "      <td>866414.0</td>\n",
       "      <td>866414.0</td>\n",
       "      <td>866414.0</td>\n",
       "    </tr>\n",
       "    <tr>\n",
       "      <th>mean</th>\n",
       "      <td>1.287251</td>\n",
       "      <td>1.0</td>\n",
       "      <td>1.0</td>\n",
       "      <td>0.967360</td>\n",
       "      <td>1.0</td>\n",
       "      <td>1.287251</td>\n",
       "      <td>1.006717</td>\n",
       "      <td>1.0</td>\n",
       "      <td>0.689861</td>\n",
       "      <td>1.117596</td>\n",
       "      <td>0.0</td>\n",
       "      <td>1.0</td>\n",
       "      <td>0.872169</td>\n",
       "      <td>1.0</td>\n",
       "      <td>1.0</td>\n",
       "      <td>1.0</td>\n",
       "      <td>1.0</td>\n",
       "    </tr>\n",
       "    <tr>\n",
       "      <th>std</th>\n",
       "      <td>0.452480</td>\n",
       "      <td>0.0</td>\n",
       "      <td>0.0</td>\n",
       "      <td>0.177693</td>\n",
       "      <td>0.0</td>\n",
       "      <td>0.452480</td>\n",
       "      <td>0.081684</td>\n",
       "      <td>0.0</td>\n",
       "      <td>0.462551</td>\n",
       "      <td>0.375351</td>\n",
       "      <td>0.0</td>\n",
       "      <td>0.0</td>\n",
       "      <td>0.333902</td>\n",
       "      <td>0.0</td>\n",
       "      <td>0.0</td>\n",
       "      <td>0.0</td>\n",
       "      <td>0.0</td>\n",
       "    </tr>\n",
       "    <tr>\n",
       "      <th>min</th>\n",
       "      <td>1.000000</td>\n",
       "      <td>1.0</td>\n",
       "      <td>1.0</td>\n",
       "      <td>0.000000</td>\n",
       "      <td>1.0</td>\n",
       "      <td>1.000000</td>\n",
       "      <td>1.000000</td>\n",
       "      <td>1.0</td>\n",
       "      <td>0.000000</td>\n",
       "      <td>1.000000</td>\n",
       "      <td>0.0</td>\n",
       "      <td>1.0</td>\n",
       "      <td>0.000000</td>\n",
       "      <td>1.0</td>\n",
       "      <td>1.0</td>\n",
       "      <td>1.0</td>\n",
       "      <td>1.0</td>\n",
       "    </tr>\n",
       "    <tr>\n",
       "      <th>25%</th>\n",
       "      <td>1.000000</td>\n",
       "      <td>1.0</td>\n",
       "      <td>1.0</td>\n",
       "      <td>1.000000</td>\n",
       "      <td>1.0</td>\n",
       "      <td>1.000000</td>\n",
       "      <td>1.000000</td>\n",
       "      <td>1.0</td>\n",
       "      <td>0.000000</td>\n",
       "      <td>1.000000</td>\n",
       "      <td>0.0</td>\n",
       "      <td>1.0</td>\n",
       "      <td>1.000000</td>\n",
       "      <td>1.0</td>\n",
       "      <td>1.0</td>\n",
       "      <td>1.0</td>\n",
       "      <td>1.0</td>\n",
       "    </tr>\n",
       "    <tr>\n",
       "      <th>50%</th>\n",
       "      <td>1.000000</td>\n",
       "      <td>1.0</td>\n",
       "      <td>1.0</td>\n",
       "      <td>1.000000</td>\n",
       "      <td>1.0</td>\n",
       "      <td>1.000000</td>\n",
       "      <td>1.000000</td>\n",
       "      <td>1.0</td>\n",
       "      <td>1.000000</td>\n",
       "      <td>1.000000</td>\n",
       "      <td>0.0</td>\n",
       "      <td>1.0</td>\n",
       "      <td>1.000000</td>\n",
       "      <td>1.0</td>\n",
       "      <td>1.0</td>\n",
       "      <td>1.0</td>\n",
       "      <td>1.0</td>\n",
       "    </tr>\n",
       "    <tr>\n",
       "      <th>75%</th>\n",
       "      <td>2.000000</td>\n",
       "      <td>1.0</td>\n",
       "      <td>1.0</td>\n",
       "      <td>1.000000</td>\n",
       "      <td>1.0</td>\n",
       "      <td>2.000000</td>\n",
       "      <td>1.000000</td>\n",
       "      <td>1.0</td>\n",
       "      <td>1.000000</td>\n",
       "      <td>1.000000</td>\n",
       "      <td>0.0</td>\n",
       "      <td>1.0</td>\n",
       "      <td>1.000000</td>\n",
       "      <td>1.0</td>\n",
       "      <td>1.0</td>\n",
       "      <td>1.0</td>\n",
       "      <td>1.0</td>\n",
       "    </tr>\n",
       "    <tr>\n",
       "      <th>max</th>\n",
       "      <td>2.000000</td>\n",
       "      <td>1.0</td>\n",
       "      <td>1.0</td>\n",
       "      <td>1.000000</td>\n",
       "      <td>1.0</td>\n",
       "      <td>2.000000</td>\n",
       "      <td>2.000000</td>\n",
       "      <td>1.0</td>\n",
       "      <td>1.000000</td>\n",
       "      <td>6.000000</td>\n",
       "      <td>0.0</td>\n",
       "      <td>1.0</td>\n",
       "      <td>1.000000</td>\n",
       "      <td>1.0</td>\n",
       "      <td>1.0</td>\n",
       "      <td>1.0</td>\n",
       "      <td>1.0</td>\n",
       "    </tr>\n",
       "  </tbody>\n",
       "</table>\n",
       "</div>"
      ],
      "text/plain": [
       "          offense_id  dm_offender_race_ethnicity  dm_offender_sex  \\\n",
       "count  866414.000000                    866414.0         866414.0   \n",
       "mean        1.287251                         1.0              1.0   \n",
       "std         0.452480                         0.0              0.0   \n",
       "min         1.000000                         1.0              1.0   \n",
       "25%         1.000000                         1.0              1.0   \n",
       "50%         1.000000                         1.0              1.0   \n",
       "75%         2.000000                         1.0              1.0   \n",
       "max         2.000000                         1.0              1.0   \n",
       "\n",
       "       dm_offender_age  offender_seq_num  offense_type_id    location_id  \\\n",
       "count    866414.000000          866414.0    866414.000000  866414.000000   \n",
       "mean          0.967360               1.0         1.287251       1.006717   \n",
       "std           0.177693               0.0         0.452480       0.081684   \n",
       "min           0.000000               1.0         1.000000       1.000000   \n",
       "25%           1.000000               1.0         1.000000       1.000000   \n",
       "50%           1.000000               1.0         1.000000       1.000000   \n",
       "75%           1.000000               1.0         2.000000       1.000000   \n",
       "max           1.000000               1.0         2.000000       2.000000   \n",
       "\n",
       "       cleared_except_id  arrest_type_id  criminal_act_id  relationship_id  \\\n",
       "count           866414.0   866414.000000    866414.000000         866414.0   \n",
       "mean                 1.0        0.689861         1.117596              0.0   \n",
       "std                  0.0        0.462551         0.375351              0.0   \n",
       "min                  1.0        0.000000         1.000000              0.0   \n",
       "25%                  1.0        0.000000         1.000000              0.0   \n",
       "50%                  1.0        1.000000         1.000000              0.0   \n",
       "75%                  1.0        1.000000         1.000000              0.0   \n",
       "max                  1.0        1.000000         6.000000              0.0   \n",
       "\n",
       "       property_count  drug_type_count  offense_count  drug_offense_count  \\\n",
       "count        866414.0    866414.000000       866414.0            866414.0   \n",
       "mean              1.0         0.872169            1.0                 1.0   \n",
       "std               0.0         0.333902            0.0                 0.0   \n",
       "min               1.0         0.000000            1.0                 1.0   \n",
       "25%               1.0         1.000000            1.0                 1.0   \n",
       "50%               1.0         1.000000            1.0                 1.0   \n",
       "75%               1.0         1.000000            1.0                 1.0   \n",
       "max               1.0         1.000000            1.0                 1.0   \n",
       "\n",
       "       state_abbr    agency  \n",
       "count    866414.0  866414.0  \n",
       "mean          1.0       1.0  \n",
       "std           0.0       0.0  \n",
       "min           1.0       1.0  \n",
       "25%           1.0       1.0  \n",
       "50%           1.0       1.0  \n",
       "75%           1.0       1.0  \n",
       "max           1.0       1.0  "
      ]
     },
     "execution_count": 43,
     "metadata": {},
     "output_type": "execute_result"
    }
   ],
   "source": [
    "drug_or_equipment_df.groupby([\"offender_id\"]).nunique().describe()"
   ]
  },
  {
   "cell_type": "code",
   "execution_count": 44,
   "metadata": {},
   "outputs": [
    {
     "data": {
      "text/plain": [
       "6.0    958054\n",
       "8.0    112530\n",
       "3.0    103683\n",
       "1.0     20809\n",
       "7.0     19891\n",
       "2.0      6469\n",
       "5.0      3210\n",
       "4.0       187\n",
       "Name: criminal_act_id, dtype: int64"
      ]
     },
     "execution_count": 44,
     "metadata": {},
     "output_type": "execute_result"
    }
   ],
   "source": [
    "drug_or_equipment_df.criminal_act_id.value_counts()"
   ]
  },
  {
   "cell_type": "markdown",
   "metadata": {},
   "source": [
    "## Unique offenses per offender when offense type = Drug\n",
    "## Go Back to SQL drop other offenses"
   ]
  },
  {
   "cell_type": "code",
   "execution_count": 51,
   "metadata": {},
   "outputs": [],
   "source": [
    "drug_offences = drug_or_equipment_df.groupby([\"offender_id\", \"location_id\", \"criminal_act_id\"])[\"offense_type_id\"].apply(lambda x: sum([xi == 16 for xi in x]))"
   ]
  },
  {
   "cell_type": "code",
   "execution_count": 52,
   "metadata": {},
   "outputs": [
    {
     "data": {
      "text/plain": [
       "0"
      ]
     },
     "execution_count": 52,
     "metadata": {},
     "output_type": "execute_result"
    }
   ],
   "source": [
    "sum(drug_offences.values > 1)"
   ]
  },
  {
   "cell_type": "code",
   "execution_count": 53,
   "metadata": {},
   "outputs": [],
   "source": [
    "drug_offences = drug_or_equipment_df[drug_or_equipment_df.offense_type_id == 16].groupby([\"offender_id\"])"
   ]
  },
  {
   "cell_type": "code",
   "execution_count": 55,
   "metadata": {},
   "outputs": [
    {
     "data": {
      "text/plain": [
       "1"
      ]
     },
     "execution_count": 55,
     "metadata": {},
     "output_type": "execute_result"
    }
   ],
   "source": [
    "drug_offences.offense_id.nunique().max()"
   ]
  },
  {
   "cell_type": "code",
   "execution_count": 6,
   "metadata": {},
   "outputs": [
    {
     "data": {
      "text/plain": [
       "16    1123182\n",
       "35     539708\n",
       "39      79469\n",
       "28      51285\n",
       "23      47754\n",
       "51      36625\n",
       "45      23389\n",
       "11      22209\n",
       "5       22109\n",
       "27      21474\n",
       "49      17576\n",
       "2       14298\n",
       "46      14283\n",
       "21      14269\n",
       "44      10511\n",
       "63       9977\n",
       "40       8637\n",
       "14       7859\n",
       "41       5077\n",
       "47       4123\n",
       "29       2306\n",
       "30       1397\n",
       "7         963\n",
       "32        737\n",
       "15        532\n",
       "36        517\n",
       "37        421\n",
       "20        410\n",
       "56        340\n",
       "13        272\n",
       "8         221\n",
       "57        217\n",
       "18        192\n",
       "26        179\n",
       "62        168\n",
       "59        165\n",
       "43        150\n",
       "38        147\n",
       "24        147\n",
       "50        141\n",
       "12        132\n",
       "3         112\n",
       "54        101\n",
       "61         95\n",
       "17         79\n",
       "64         50\n",
       "31         43\n",
       "4          40\n",
       "60         26\n",
       "55          4\n",
       "9           4\n",
       "Name: offense_type_id, dtype: int64"
      ]
     },
     "execution_count": 6,
     "metadata": {},
     "output_type": "execute_result"
    }
   ],
   "source": [
    "df.offense_type_id.value_counts()"
   ]
  },
  {
   "cell_type": "code",
   "execution_count": null,
   "metadata": {},
   "outputs": [],
   "source": []
  }
 ],
 "metadata": {
  "kernelspec": {
   "display_name": "Python 3",
   "language": "python",
   "name": "python3"
  },
  "language_info": {
   "codemirror_mode": {
    "name": "ipython",
    "version": 3
   },
   "file_extension": ".py",
   "mimetype": "text/x-python",
   "name": "python",
   "nbconvert_exporter": "python",
   "pygments_lexer": "ipython3",
   "version": "3.8.5"
  }
 },
 "nbformat": 4,
 "nbformat_minor": 4
}
