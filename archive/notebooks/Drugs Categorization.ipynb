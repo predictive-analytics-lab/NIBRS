{
 "cells": [
  {
   "cell_type": "code",
   "execution_count": 46,
   "metadata": {},
   "outputs": [],
   "source": [
    "import pandas as pd\n",
    "import numpy as np"
   ]
  },
  {
   "cell_type": "code",
   "execution_count": 2,
   "metadata": {},
   "outputs": [
    {
     "name": "stderr",
     "output_type": "stream",
     "text": [
      "/root/miniconda3/lib/python3.7/site-packages/IPython/core/interactiveshell.py:3063: DtypeWarning: Columns (20) have mixed types.Specify dtype option on import or set low_memory=False.\n",
      "  interactivity=interactivity, compiler=compiler, result=result)\n"
     ]
    }
   ],
   "source": [
    "data = pd.read_csv(\"../data/drugs_2019_units_per_drug_20210316.csv\")"
   ]
  },
  {
   "cell_type": "code",
   "execution_count": 3,
   "metadata": {},
   "outputs": [
    {
     "data": {
      "text/plain": [
       "Index(['dm_offender_race_ethnicity', 'dm_offender_sex', 'dm_offender_age',\n",
       "       'offender_seq_num', 'cleared_except_id', 'arrest_type_id', 'state_abbr',\n",
       "       'agency', 'drug_offense', 'drug_equipment_offense',\n",
       "       'unique_drug_type_count', 'drug_type_count',\n",
       "       'unique_drug_measure_per_drug', 'crack_qty', 'cocaine_qty',\n",
       "       'heroin_qty', 'cannabis_qty', 'meth_amphetamines_qty', 'other_drugs',\n",
       "       'crack_measures', 'cocaine_measures', 'heroin_measures',\n",
       "       'cannabis_measures', 'meth_measures', 'criminal_act_count',\n",
       "       'criminal_act', 'offense_count', 'offender_count', 'location_category',\n",
       "       'drug_equipment_value'],\n",
       "      dtype='object')"
      ]
     },
     "execution_count": 3,
     "metadata": {},
     "output_type": "execute_result"
    }
   ],
   "source": [
    "data.columns"
   ]
  },
  {
   "cell_type": "code",
   "execution_count": 23,
   "metadata": {},
   "outputs": [],
   "source": [
    "from collections import defaultdict\n",
    "\n",
    "unit_type = [\n",
    "    \"Gram\",\n",
    "    \"Kilogram\",\n",
    "    \"Ounce\",\n",
    "    \"Pound\",\n",
    "    \"Milliliter\",\n",
    "    \"Liter\",\n",
    "    \"Fluid Ounce\",\n",
    "    \"Gallon\",\n",
    "    \"Dosage Unit\",\n",
    "    \"Number of Plants\",\n",
    "    \"Not Reported\",\n",
    "]\n",
    "unit_type_dict = {i + 1: u for i, u in enumerate(unit_type)}\n",
    "unit_type_dict = defaultdict(lambda: 'Unknown', unit_type_dict)\n",
    "\n",
    "drug_state_dict = {\n",
    "    \"Gram\": \"Mass\",\n",
    "    \"Kilogram\": \"Mass\",\n",
    "    \"Ounce\": \"Mass\",\n",
    "    \"Pound\": \"Mass\",\n",
    "    \"Milliliter\": \"Volume\",\n",
    "    \"Liter\": \"Volume\",\n",
    "    \"Fluid Ounce\": \"Volume\",\n",
    "    \"Gallon\": \"Volume\",\n",
    "    \"Dosage Unit\": \"Unit\",\n",
    "    \"Number of Plants\": \"Unit\",\n",
    "}\n",
    "drug_state_dict = defaultdict(lambda: 'Unknown', drug_state_dict)\n"
   ]
  },
  {
   "cell_type": "code",
   "execution_count": 24,
   "metadata": {},
   "outputs": [
    {
     "ename": "AttributeError",
     "evalue": "'DataFrame' object has no attribute 'drug_measure_type_id'",
     "output_type": "error",
     "traceback": [
      "\u001b[0;31m---------------------------------------------------------------------------\u001b[0m",
      "\u001b[0;31mAttributeError\u001b[0m                            Traceback (most recent call last)",
      "\u001b[0;32m<ipython-input-24-7692836d11a5>\u001b[0m in \u001b[0;36m<module>\u001b[0;34m\u001b[0m\n\u001b[0;32m----> 1\u001b[0;31m \u001b[0mdata\u001b[0m\u001b[0;34m.\u001b[0m\u001b[0mdrug_measure_type_text\u001b[0m \u001b[0;34m=\u001b[0m \u001b[0mdata\u001b[0m\u001b[0;34m.\u001b[0m\u001b[0mdrug_measure_type_id\u001b[0m\u001b[0;34m.\u001b[0m\u001b[0mmap\u001b[0m\u001b[0;34m(\u001b[0m\u001b[0munit_type_dict\u001b[0m\u001b[0;34m)\u001b[0m\u001b[0;34m\u001b[0m\u001b[0;34m\u001b[0m\u001b[0m\n\u001b[0m\u001b[1;32m      2\u001b[0m \u001b[0mdata\u001b[0m\u001b[0;34m[\u001b[0m\u001b[0;34m\"drug_state\"\u001b[0m\u001b[0;34m]\u001b[0m \u001b[0;34m=\u001b[0m \u001b[0mdata\u001b[0m\u001b[0;34m.\u001b[0m\u001b[0mdrug_measure_type_text\u001b[0m\u001b[0;34m.\u001b[0m\u001b[0mmap\u001b[0m\u001b[0;34m(\u001b[0m\u001b[0mdrug_state_dict\u001b[0m\u001b[0;34m)\u001b[0m\u001b[0;34m\u001b[0m\u001b[0;34m\u001b[0m\u001b[0m\n",
      "\u001b[0;32m~/miniconda3/lib/python3.7/site-packages/pandas/core/generic.py\u001b[0m in \u001b[0;36m__getattr__\u001b[0;34m(self, name)\u001b[0m\n\u001b[1;32m   5458\u001b[0m             \u001b[0;32mif\u001b[0m \u001b[0mself\u001b[0m\u001b[0;34m.\u001b[0m\u001b[0m_info_axis\u001b[0m\u001b[0;34m.\u001b[0m\u001b[0m_can_hold_identifiers_and_holds_name\u001b[0m\u001b[0;34m(\u001b[0m\u001b[0mname\u001b[0m\u001b[0;34m)\u001b[0m\u001b[0;34m:\u001b[0m\u001b[0;34m\u001b[0m\u001b[0;34m\u001b[0m\u001b[0m\n\u001b[1;32m   5459\u001b[0m                 \u001b[0;32mreturn\u001b[0m \u001b[0mself\u001b[0m\u001b[0;34m[\u001b[0m\u001b[0mname\u001b[0m\u001b[0;34m]\u001b[0m\u001b[0;34m\u001b[0m\u001b[0;34m\u001b[0m\u001b[0m\n\u001b[0;32m-> 5460\u001b[0;31m             \u001b[0;32mreturn\u001b[0m \u001b[0mobject\u001b[0m\u001b[0;34m.\u001b[0m\u001b[0m__getattribute__\u001b[0m\u001b[0;34m(\u001b[0m\u001b[0mself\u001b[0m\u001b[0;34m,\u001b[0m \u001b[0mname\u001b[0m\u001b[0;34m)\u001b[0m\u001b[0;34m\u001b[0m\u001b[0;34m\u001b[0m\u001b[0m\n\u001b[0m\u001b[1;32m   5461\u001b[0m \u001b[0;34m\u001b[0m\u001b[0m\n\u001b[1;32m   5462\u001b[0m     \u001b[0;32mdef\u001b[0m \u001b[0m__setattr__\u001b[0m\u001b[0;34m(\u001b[0m\u001b[0mself\u001b[0m\u001b[0;34m,\u001b[0m \u001b[0mname\u001b[0m\u001b[0;34m:\u001b[0m \u001b[0mstr\u001b[0m\u001b[0;34m,\u001b[0m \u001b[0mvalue\u001b[0m\u001b[0;34m)\u001b[0m \u001b[0;34m->\u001b[0m \u001b[0;32mNone\u001b[0m\u001b[0;34m:\u001b[0m\u001b[0;34m\u001b[0m\u001b[0;34m\u001b[0m\u001b[0m\n",
      "\u001b[0;31mAttributeError\u001b[0m: 'DataFrame' object has no attribute 'drug_measure_type_id'"
     ]
    }
   ],
   "source": [
    "data.drug_measure_type_text = data.drug_measure_type_id.map(unit_type_dict)\n",
    "data[\"drug_state\"] = data.drug_measure_type_text.map(drug_state_dict)"
   ]
  },
  {
   "cell_type": "code",
   "execution_count": 35,
   "metadata": {},
   "outputs": [
    {
     "data": {
      "text/plain": [
       "1         275178\n",
       "3          41582\n",
       "11         22962\n",
       "9          15366\n",
       "4           3737\n",
       "           ...  \n",
       "9;1;5          1\n",
       "9;11;7         1\n",
       "9;3;11         1\n",
       "9;11;1         1\n",
       "9;1;7          1\n",
       "Name: cannabis_measures, Length: 106, dtype: int64"
      ]
     },
     "execution_count": 35,
     "metadata": {},
     "output_type": "execute_result"
    }
   ],
   "source": [
    "data.cannabis_measures.value_counts()"
   ]
  },
  {
   "cell_type": "code",
   "execution_count": null,
   "metadata": {},
   "outputs": [],
   "source": [
    "# For each column determine which state is dominant (Frequency: Mass v Volume v Units)\n",
    "\n",
    "# "
   ]
  },
  {
   "cell_type": "code",
   "execution_count": 57,
   "metadata": {},
   "outputs": [],
   "source": [
    "def state_conv(x): \n",
    "    if str(x) == \"nan\":\n",
    "        return\n",
    "    o = [unit_type_dict[int(float(xi))] for xi in str(x).split(\";\")]\n",
    "    states = \";\".join([drug_state_dict[oi] for oi in o])\n",
    "    return states"
   ]
  },
  {
   "cell_type": "code",
   "execution_count": 61,
   "metadata": {},
   "outputs": [],
   "source": [
    "data[\"cannabis_states\"] = data.cannabis_measures.apply(state_conv)\n",
    "data[\"heroin_states\"] = data.heroin_measures.apply(state_conv)\n",
    "data[\"meth_states\"] = data.meth_measures.apply(state_conv)\n",
    "data[\"cocaine_states\"] = data.cocaine_measures.apply(state_conv)\n",
    "data[\"crack_states\"] = data.crack_measures.apply(state_conv)"
   ]
  },
  {
   "cell_type": "code",
   "execution_count": 53,
   "metadata": {},
   "outputs": [
    {
     "data": {
      "text/plain": [
       "Mass                   323547\n",
       "Unknown                 22962\n",
       "Unit                    17379\n",
       "Volume                   2370\n",
       "Mass;Unit                1618\n",
       "Unit;Mass                1557\n",
       "Mass;Unknown              522\n",
       "Unknown;Mass              476\n",
       "Mass;Volume               223\n",
       "Volume;Mass               211\n",
       "Unknown;Unit               66\n",
       "Unit;Unknown               46\n",
       "Unit;Volume                15\n",
       "Volume;Unit;Mass           11\n",
       "Mass;Unit;Volume           11\n",
       "Unit;Volume;Mass           11\n",
       "Unit;Mass;Unknown          11\n",
       "Unknown;Unit;Mass          11\n",
       "Mass;Unit;Unknown          10\n",
       "Volume;Unknown              9\n",
       "Volume;Unit                 7\n",
       "Volume;Mass;Unit            7\n",
       "Unknown;Mass;Unit           5\n",
       "Unknown;Volume;Mass         4\n",
       "Unit;Unknown;Mass           3\n",
       "Mass;Unknown;Unit           3\n",
       "Mass;Unknown;Volume         3\n",
       "Unit;Mass;Volume            2\n",
       "Mass;Volume;Unit            2\n",
       "Mass;Volume;Unknown         2\n",
       "Volume;Unknown;Mass         1\n",
       "Unknown;Volume              1\n",
       "Unit;Unknown;Volume         1\n",
       "Name: cannabis_states, dtype: int64"
      ]
     },
     "execution_count": 53,
     "metadata": {},
     "output_type": "execute_result"
    }
   ],
   "source": [
    "data.cannabis_states.value_counts()"
   ]
  },
  {
   "cell_type": "code",
   "execution_count": 59,
   "metadata": {},
   "outputs": [
    {
     "data": {
      "text/plain": [
       "Mass                51305\n",
       "Unit                 8322\n",
       "Unknown              5151\n",
       "Volume                839\n",
       "Unit;Mass             167\n",
       "Mass;Unit             152\n",
       "Unknown;Mass           78\n",
       "Mass;Volume            67\n",
       "Volume;Mass            60\n",
       "Mass;Unknown           28\n",
       "Unit;Unknown           16\n",
       "Unknown;Unit           11\n",
       "Unknown;Volume          1\n",
       "Unit;Volume;Mass        1\n",
       "Unit;Volume             1\n",
       "Name: heroin_states, dtype: int64"
      ]
     },
     "execution_count": 59,
     "metadata": {},
     "output_type": "execute_result"
    }
   ],
   "source": [
    "data.heroin_states.value_counts()"
   ]
  },
  {
   "cell_type": "code",
   "execution_count": 62,
   "metadata": {},
   "outputs": [
    {
     "data": {
      "text/plain": [
       "Mass                   165567\n",
       "Unit                    13340\n",
       "Unknown                 12932\n",
       "Volume                   1360\n",
       "Mass;Unit                 682\n",
       "Unit;Mass                 664\n",
       "Mass;Unknown              298\n",
       "Unknown;Mass              297\n",
       "Mass;Volume               238\n",
       "Volume;Mass               187\n",
       "Unknown;Unit               47\n",
       "Unit;Unknown               35\n",
       "Volume;Unit                15\n",
       "Unit;Volume                12\n",
       "Volume;Mass;Unit           10\n",
       "Volume;Unknown              8\n",
       "Unknown;Volume              5\n",
       "Mass;Unit;Volume            4\n",
       "Volume;Unit;Mass            3\n",
       "Unit;Mass;Volume            2\n",
       "Unit;Mass;Unknown           1\n",
       "Unknown;Volume;Mass         1\n",
       "Unit;Volume;Mass            1\n",
       "Name: meth_states, dtype: int64"
      ]
     },
     "execution_count": 62,
     "metadata": {},
     "output_type": "execute_result"
    }
   ],
   "source": [
    "data.meth_states.value_counts()"
   ]
  },
  {
   "cell_type": "code",
   "execution_count": 63,
   "metadata": {},
   "outputs": [
    {
     "data": {
      "text/plain": [
       "Mass                34256\n",
       "Unknown              2696\n",
       "Unit                 2041\n",
       "Volume                 94\n",
       "Unit;Mass              44\n",
       "Mass;Unit              36\n",
       "Unknown;Mass           30\n",
       "Mass;Unknown           24\n",
       "Unit;Unknown            3\n",
       "Unknown;Unit            2\n",
       "Volume;Mass             2\n",
       "Unit;Volume;Mass        1\n",
       "Name: cocaine_states, dtype: int64"
      ]
     },
     "execution_count": 63,
     "metadata": {},
     "output_type": "execute_result"
    }
   ],
   "source": [
    "data.cocaine_states.value_counts()"
   ]
  },
  {
   "cell_type": "code",
   "execution_count": 64,
   "metadata": {},
   "outputs": [
    {
     "data": {
      "text/plain": [
       "Mass            32806\n",
       "Unknown          2606\n",
       "Unit             2415\n",
       "Volume             66\n",
       "Unit;Mass          54\n",
       "Mass;Unit          49\n",
       "Unknown;Mass       43\n",
       "Mass;Unknown       27\n",
       "Unit;Unknown        7\n",
       "Unknown;Unit        3\n",
       "Volume;Mass         3\n",
       "Mass;Volume         1\n",
       "Name: crack_states, dtype: int64"
      ]
     },
     "execution_count": 64,
     "metadata": {},
     "output_type": "execute_result"
    }
   ],
   "source": [
    "data.crack_states.value_counts()"
   ]
  }
 ],
 "metadata": {
  "kernelspec": {
   "display_name": "Python 3",
   "language": "python",
   "name": "python3"
  },
  "language_info": {
   "codemirror_mode": {
    "name": "ipython",
    "version": 3
   },
   "file_extension": ".py",
   "mimetype": "text/x-python",
   "name": "python",
   "nbconvert_exporter": "python",
   "pygments_lexer": "ipython3",
   "version": "3.7.4"
  }
 },
 "nbformat": 4,
 "nbformat_minor": 4
}
