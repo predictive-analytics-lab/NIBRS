{
 "cells": [
  {
   "cell_type": "code",
   "execution_count": 33,
   "metadata": {},
   "outputs": [],
   "source": [
    "import pandas as pd\n",
    "import numpy as np\n",
    "import seaborn as sns\n",
    "from functools import partial\n",
    "from matplotlib import pyplot as plt\n",
    "from scipy.stats import percentileofscore\n",
    "from collections import defaultdict\n",
    "sns.set(rc={'figure.facecolor':'white'})"
   ]
  },
  {
   "cell_type": "markdown",
   "metadata": {},
   "source": [
    "## Data loading + munging "
   ]
  },
  {
   "cell_type": "code",
   "execution_count": 34,
   "metadata": {},
   "outputs": [],
   "source": [
    "df = pd.read_csv(\"../data/drugs_agency_2019_20210308.csv\")"
   ]
  },
  {
   "cell_type": "markdown",
   "metadata": {},
   "source": [
    "### Inspect Data Columns"
   ]
  },
  {
   "cell_type": "code",
   "execution_count": 35,
   "metadata": {},
   "outputs": [
    {
     "data": {
      "text/plain": [
       "Index(['dm_offender_race_ethnicity', 'dm_offender_sex', 'dm_offender_age',\n",
       "       'offender_seq_num', 'offense_type_id', 'location_id',\n",
       "       'cleared_except_id', 'arrest_type_id', 'criminal_act_id',\n",
       "       'relationship_id', 'prop_loss_id', 'prop_desc_id', 'property_value',\n",
       "       'suspected_drug_type_id', 'est_drug_qty', 'drug_measure_type_id',\n",
       "       'state_abbr', 'agency'],\n",
       "      dtype='object')"
      ]
     },
     "execution_count": 35,
     "metadata": {},
     "output_type": "execute_result"
    }
   ],
   "source": [
    "df.columns"
   ]
  },
  {
   "cell_type": "markdown",
   "metadata": {},
   "source": [
    "### Location Mapping"
   ]
  },
  {
   "cell_type": "code",
   "execution_count": 36,
   "metadata": {},
   "outputs": [],
   "source": [
    "location_dict = {\n",
    "    13: \"Street\",\n",
    "    20: \"Home\",\n",
    "    18: \"Street\",\n",
    "    14: \"Hotel/Motel\",\n",
    "    8: \"Store\",\n",
    "    7: \"Store\",\n",
    "    23: \"Store\",\n",
    "    41: \"School-Elementary\",\n",
    "    12: \"Store\",\n",
    "}\n",
    "location_dict = defaultdict(lambda: 'Other', location_dict)\n",
    "df[\"location\"] = df.location_id.map(location_dict)"
   ]
  },
  {
   "cell_type": "markdown",
   "metadata": {},
   "source": [
    "### Property Value Mapping"
   ]
  },
  {
   "cell_type": "code",
   "execution_count": 37,
   "metadata": {},
   "outputs": [],
   "source": [
    "def property_value_func(n):\n",
    "    if n == 0:\n",
    "        return \"n==0\"\n",
    "    if n > 0 and n <= 10:\n",
    "        return \"0 < n <= 10\"\n",
    "    if n > 10 and n <= 100:\n",
    "        return \"10 < n <= 100\"\n",
    "    if n > 100 and n <= 1000:\n",
    "        return \"100 < n <= 1000\"\n",
    "    if n > 1000:\n",
    "        return \"n > 1000\"\n",
    "    return \"Unknown\"\n",
    "\n",
    "#df[\"property_value\"] = df.property_value.apply(property_value_func)"
   ]
  },
  {
   "cell_type": "markdown",
   "metadata": {},
   "source": [
    "### Property Description Mapping"
   ]
  },
  {
   "cell_type": "code",
   "execution_count": 38,
   "metadata": {},
   "outputs": [],
   "source": [
    "property_description_dict = {\n",
    "    10: \"Drugs\",\n",
    "    11: \"Drug Equipment\",\n",
    "    20: \"Money\",\n",
    "    13: \"Firearms\",\n",
    "    3: \"Automobile\",\n",
    "}\n",
    "property_description_dict = defaultdict(lambda: 'Other', property_description_dict)\n",
    "df[\"property_description\"] = df.prop_desc_id.map(property_description_dict.get)"
   ]
  },
  {
   "cell_type": "code",
   "execution_count": 42,
   "metadata": {},
   "outputs": [
    {
     "data": {
      "text/plain": [
       "5.0     363601\n",
       "12.0    267831\n",
       "4.0      80174\n",
       "16.0     53643\n",
       "8.0      43063\n",
       "17.0     30026\n",
       "2.0      29479\n",
       "1.0      26473\n",
       "18.0     16329\n",
       "15.0     10756\n",
       "11.0      9242\n",
       "3.0       6174\n",
       "13.0      5713\n",
       "7.0       3289\n",
       "9.0       2708\n",
       "14.0      2064\n",
       "6.0       1512\n",
       "10.0       476\n",
       "Name: suspected_drug_type_id, dtype: int64"
      ]
     },
     "execution_count": 42,
     "metadata": {},
     "output_type": "execute_result"
    }
   ],
   "source": [
    "df[df.property_description == \"Drug Equipment\"][\"suspected_drug_type_id\"].value_counts()"
   ]
  },
  {
   "cell_type": "markdown",
   "metadata": {},
   "source": [
    "### Property Loss Mapping"
   ]
  },
  {
   "cell_type": "code",
   "execution_count": 7,
   "metadata": {},
   "outputs": [],
   "source": [
    "property_loss_dict = {\n",
    "    6: \"Seized\",\n",
    "    7: \"Stolen\",\n",
    "    5: \"Recovered\",\n",
    "}\n",
    "property_loss_dict = defaultdict(lambda: 'Other', property_loss_dict)\n",
    "df[\"property_loss\"] = df.prop_loss_id.map(property_loss_dict)"
   ]
  },
  {
   "cell_type": "code",
   "execution_count": 8,
   "metadata": {},
   "outputs": [],
   "source": [
    "def age_func(x):\n",
    "    if x < 18:\n",
    "        return \"[0, 18)\"\n",
    "    if x < 21:\n",
    "        return \"[18, 21)\"\n",
    "    if x < 24:\n",
    "        return \"[21, 24)\"\n",
    "    if x < 31:\n",
    "        return \"[24, 31)\"\n",
    "    if x < 42:\n",
    "        return \"[31, 42)\"\n",
    "    if x < 120:\n",
    "        return \"[42, 120)\"\n",
    "    return \"Unknown\"\n",
    "df[\"dm_offender_age\"] = df.dm_offender_age.apply(age_func)"
   ]
  },
  {
   "cell_type": "code",
   "execution_count": 9,
   "metadata": {},
   "outputs": [],
   "source": [
    "criminal_act_dict = {\n",
    "    6: \"Possessing\",\n",
    "    3: \"Distributing\",\n",
    "    8: \"Consuming\",\n",
    "    1: \"Buying\",\n",
    "    7: \"Transporting\",\n",
    "    2: \"Cultivating/Manufacturing/Other\",\n",
    "}\n",
    "criminal_act_dict = defaultdict(lambda: 'Other', criminal_act_dict)\n",
    "df[\"criminal_act\"] = df.criminal_act_id.map(criminal_act_dict.get)"
   ]
  },
  {
   "cell_type": "markdown",
   "metadata": {},
   "source": [
    "### Replace NaN drug quantities with 0, and drug measure type to unknown"
   ]
  },
  {
   "cell_type": "code",
   "execution_count": 10,
   "metadata": {},
   "outputs": [
    {
     "name": "stderr",
     "output_type": "stream",
     "text": [
      "/root/miniconda3/lib/python3.7/site-packages/ipykernel_launcher.py:7: SettingWithCopyWarning: \n",
      "A value is trying to be set on a copy of a slice from a DataFrame.\n",
      "Try using .loc[row_indexer,col_indexer] = value instead\n",
      "\n",
      "See the caveats in the documentation: https://pandas.pydata.org/pandas-docs/stable/user_guide/indexing.html#returning-a-view-versus-a-copy\n",
      "  import sys\n"
     ]
    }
   ],
   "source": [
    "df.fillna({\"est_drug_qty\": -1}, inplace=True)\n",
    "df['drug_measure_type_id'] = df['drug_measure_type_id'].replace(np.nan, 11)\n",
    "\n",
    "no_quantity = (df[\"est_drug_qty\"] == -1) | ((df[\"drug_measure_type_id\"] == 11) & (df[\"est_drug_qty\"] != 0))\n",
    "\n",
    "no_quantity_df = df[no_quantity]\n",
    "no_quantity_df[\"drug_quantity_quantile\"] = \"Unknown\"\n",
    "\n",
    "df = df[~no_quantity]"
   ]
  },
  {
   "cell_type": "markdown",
   "metadata": {},
   "source": [
    "### Convert drug quantity to uniform measures"
   ]
  },
  {
   "cell_type": "code",
   "execution_count": 11,
   "metadata": {},
   "outputs": [],
   "source": [
    "quantity_dict = {\n",
    "    1: 1,\n",
    "    2: 1000,\n",
    "    3: 28.3495,\n",
    "    4: 453.592,\n",
    "    5: 1,\n",
    "    6: 1000,\n",
    "    7: 28.4131,\n",
    "    8: 3785.41,\n",
    "    9: 1,\n",
    "    10: 1,\n",
    "    11: 0\n",
    "}\n",
    "quantity_conv = lambda x: quantity_dict[x[\"drug_measure_type_id\"]] * x[\"est_drug_qty\"]"
   ]
  },
  {
   "cell_type": "markdown",
   "metadata": {},
   "source": [
    "### Convert numerical columns to strings"
   ]
  },
  {
   "cell_type": "code",
   "execution_count": 12,
   "metadata": {},
   "outputs": [],
   "source": [
    "unit_type = [\n",
    "    \"Gram\",\n",
    "    \"Kilogram\",\n",
    "    \"Ounce\",\n",
    "    \"Pound\",\n",
    "    \"Milliliter\",\n",
    "    \"Liter\",\n",
    "    \"Fluid Ounce\",\n",
    "    \"Gallon\",\n",
    "    \"Dosage Unit\",\n",
    "    \"Number of Plants\",\n",
    "    \"Not Reported\",\n",
    "]\n",
    "unit_type_dict = {i + 1: u for i, u in enumerate(unit_type)}\n",
    "unit_type_dict = defaultdict(lambda: 'Unknown', unit_type_dict)"
   ]
  },
  {
   "cell_type": "code",
   "execution_count": 13,
   "metadata": {},
   "outputs": [],
   "source": [
    "drug_state_dict = {\n",
    "    \"Gram\": \"Mass\",\n",
    "    \"Kilogram\": \"Mass\",\n",
    "    \"Ounce\": \"Mass\",\n",
    "    \"Pound\": \"Mass\",\n",
    "    \"Milliliter\": \"Volume\",\n",
    "    \"Liter\": \"Volume\",\n",
    "    \"Fluid Ounce\": \"Volume\",\n",
    "    \"Gallon\": \"Volume\",\n",
    "    \"Dosage Unit\": \"Unit\",\n",
    "    \"Number of Plants\": \"Unit\",\n",
    "}\n",
    "drug_state_dict = defaultdict(lambda: 'Unknown', drug_state_dict)"
   ]
  },
  {
   "cell_type": "code",
   "execution_count": 14,
   "metadata": {},
   "outputs": [],
   "source": [
    "df[\"est_drug_qty_standard\"] = df.apply(quantity_conv, axis=1)\n",
    "df.drug_measure_type_id = df.drug_measure_type_id.map(unit_type_dict)\n",
    "df[\"drug_state\"] = df.drug_measure_type_id.map(drug_state_dict)"
   ]
  },
  {
   "cell_type": "markdown",
   "metadata": {},
   "source": [
    "### Quantify by Quartiles"
   ]
  },
  {
   "cell_type": "code",
   "execution_count": 15,
   "metadata": {},
   "outputs": [],
   "source": [
    "quantile_func = partial(np.quantile, q=[0.2, 0.4, 0.6, 0.8, 1])\n",
    "quantiles = df.groupby([\"suspected_drug_type_id\", \"drug_state\"], dropna=False)[\"est_drug_qty_standard\"].apply(quantile_func)\n",
    "quantile_conv = lambda x: str(percentileofscore(quantiles[(x[\"suspected_drug_type_id\"], x[\"drug_state\"])], x[\"est_drug_qty\"], kind=\"strict\"))\n",
    "df[\"drug_quantity_quantile\"] = df.apply(quantile_conv, axis=1)\n",
    "#df = df.append(no_quantity_df)"
   ]
  },
  {
   "cell_type": "code",
   "execution_count": 16,
   "metadata": {},
   "outputs": [],
   "source": [
    "drug_types = [\n",
    "    \"Crack Cocaine\",\n",
    "    \"Cocaine\",\n",
    "    \"Other\",\n",
    "    \"Heroin\",\n",
    "    \"Marijuana\",\n",
    "    \"Other\",\n",
    "    \"Other\",\n",
    "    \"Other\",\n",
    "    \"Other\",\n",
    "    \"Other\",\n",
    "    \"Other\",\n",
    "    \"Meth/Amphetamines\",\n",
    "    \"Other\",\n",
    "    \"Other\",\n",
    "    \"Other\",\n",
    "    \"Other\",\n",
    "    \"Other\",\n",
    "    \"Other\",\n",
    "]\n",
    "drug_type_dict = {i + 1: d for i, d in enumerate(drug_types)}\n",
    "df[\"suspected_drug_type\"] = df.suspected_drug_type_id.map(drug_type_dict)"
   ]
  },
  {
   "cell_type": "markdown",
   "metadata": {},
   "source": [
    "### Cleanup"
   ]
  },
  {
   "cell_type": "code",
   "execution_count": 17,
   "metadata": {},
   "outputs": [],
   "source": [
    "df.loc[(df.dm_offender_sex == \" \"), \"dm_offender_sex\"] = \"U\"\n",
    "df.fillna({\"property_value\": \"Unknown\"}, inplace=True)\n",
    "df.fillna({\"suspected_drug_type\": \"Unknown\"}, inplace=True)\n",
    "df.fillna({\"property_description\": \"Unknown\"}, inplace=True)\n",
    "df.fillna({\"criminal_act\": \"Cultivating/Manufacturing/Other\"}, inplace=True)"
   ]
  },
  {
   "cell_type": "code",
   "execution_count": 18,
   "metadata": {},
   "outputs": [],
   "source": [
    "offense_type_dict = {\n",
    "    16: \"Drug/Narcotics Violations\",\n",
    "    35: \"Drug Equipment Violations\", \n",
    "}\n",
    "offense_type_dict = defaultdict(lambda: 'Unknown', offense_type_dict)"
   ]
  },
  {
   "cell_type": "code",
   "execution_count": 19,
   "metadata": {},
   "outputs": [],
   "source": [
    "arrest_type_dict = {\n",
    "    1: \"On View\",\n",
    "    2: \"Summoned/Cited\",\n",
    "    3: \"Taken into Custody\",\n",
    "}\n",
    "arrest_type_dict = defaultdict(lambda: 'Not Arrested', arrest_type_dict)"
   ]
  },
  {
   "cell_type": "code",
   "execution_count": 20,
   "metadata": {},
   "outputs": [],
   "source": [
    "df[\"offense_type\"] = df.offense_type_id.map(offense_type_dict.get)\n",
    "df[\"arrest_type\"] = df.arrest_type_id.map(arrest_type_dict.get)"
   ]
  },
  {
   "cell_type": "code",
   "execution_count": 21,
   "metadata": {},
   "outputs": [],
   "source": [
    "df.fillna({\"arrest_type\": \"Not Arrested\"}, inplace=True)"
   ]
  },
  {
   "cell_type": "code",
   "execution_count": 28,
   "metadata": {},
   "outputs": [],
   "source": [
    "to_drop = set([\"location_id\", \"agency\", \"property_loss\", \"property_value\", \"prop_loss_id\", \"suspected_drug_type_id\", \"offense_type_id\", \"arrest_type_id\", \"cleared_except_id\", \"drug_state\", \"prop_desc_id\", \"criminal_act_id\", \"est_drug_qty\", \"est_drug_qty_standard\", \"drug_measure_type_id\", \"state_abbr\", \"offender_seq_num\", \"relationship_id\"]) & set(df.columns)\n",
    "df = df.drop(to_drop, axis=1)"
   ]
  },
  {
   "cell_type": "code",
   "execution_count": 29,
   "metadata": {},
   "outputs": [
    {
     "data": {
      "text/plain": [
       "dm_offender_race_ethnicity    5\n",
       "dm_offender_sex               3\n",
       "dm_offender_age               7\n",
       "location                      6\n",
       "property_description          6\n",
       "criminal_act                  6\n",
       "drug_quantity_quantile        5\n",
       "suspected_drug_type           6\n",
       "offense_type                  2\n",
       "arrest_type                   4\n",
       "dtype: int64"
      ]
     },
     "execution_count": 29,
     "metadata": {},
     "output_type": "execute_result"
    }
   ],
   "source": [
    "df.nunique()"
   ]
  },
  {
   "cell_type": "code",
   "execution_count": 30,
   "metadata": {},
   "outputs": [],
   "source": [
    "df.to_csv(\"../data/NIBRS_drug_20210308.csv\", index=False)"
   ]
  }
 ],
 "metadata": {
  "kernelspec": {
   "display_name": "Python 3",
   "language": "python",
   "name": "python3"
  },
  "language_info": {
   "codemirror_mode": {
    "name": "ipython",
    "version": 3
   },
   "file_extension": ".py",
   "mimetype": "text/x-python",
   "name": "python",
   "nbconvert_exporter": "python",
   "pygments_lexer": "ipython3",
   "version": "3.7.4"
  }
 },
 "nbformat": 4,
 "nbformat_minor": 4
}
